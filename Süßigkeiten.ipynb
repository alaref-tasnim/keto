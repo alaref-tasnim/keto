{
 "cells": [
  {
   "cell_type": "markdown",
   "metadata": {},
   "source": [
    "## heidelbeeren Kuchen mit Joghurt "
   ]
  },
  {
   "cell_type": "markdown",
   "metadata": {},
   "source": [
    "tasnimsfood = anteil([(\"coconut_oil\", 50), (\"gemahlen_mandeln\", 100), (\"heidelbeeren\", 300), (\"griechischer_joghurt\", 100)])"
   ]
  }
 ],
 "metadata": {
  "language_info": {
   "name": "python"
  }
 },
 "nbformat": 4,
 "nbformat_minor": 2
}
