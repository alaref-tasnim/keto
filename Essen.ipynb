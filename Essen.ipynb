{
 "cells": [
  {
   "cell_type": "markdown",
   "metadata": {},
   "source": [
    "# Essen"
   ]
  },
  {
   "cell_type": "markdown",
   "metadata": {},
   "source": [
    "## Burger\n",
    "\n",
    "joumansfood = anteil([(\"tomaten\", 100),(\"butterkaese\",74), (\"meat\", 350),(\"ghee\", 15), (\"coconut raspel\", 15), (\"mayo\", 30), (\"senf\", 20), \n",
    "                      (\"mandel_milch\", 100),(\"egg\", 2), (\"romaine_Hearts\", 20),(\"avocado\", 53), (\"heidelbeeren\", 25)])\n",
    "\n",
    "tasnimsfood = anteil([(\"tomaten\", 100), (\"butterkaese\",37),(\"meat\", 300),(\"macadamias\", 15) ,(\"ghee\", 15),(\"mayo\", 10), (\"senf\", 10),(\"eisbergsalat\",200),\n",
    "                       (\"coconut raspel\", 15), (\"egg\", 2), (\"romaine_Hearts\", 20), (\"avocado\", 53),(\"heidelbeeren\", 25), (\"mandel_milch\", 100)])"
   ]
  },
  {
   "cell_type": "markdown",
   "metadata": {},
   "source": [
    "## luchs"
   ]
  },
  {
   "cell_type": "markdown",
   "metadata": {},
   "source": [
    "tasnimsfood = anteil([(\"ghee\", 15),(\"coconut raspel\", 20), (\"egg\", 2), (\"romaine_Hearts\", 20),(\"heidelbeeren\", 25), (\"macadamias\", 10)\n",
    "                      ,(\"mandel_milch\", 100), (\"chiaseed\", 7), (\"flaxseed\",13),(\"creme\", 100),(\"limone\", 10),\n",
    "                       (\"tahini\", 30), (\"lachsfilet\", 180), (\"butter\", 15),(\"broccoli\", 200)])\n",
    "\n",
    "joumansfood = anteil([(\"ghee\", 15),(\"coconut raspel\", 20), (\"egg\", 2), (\"romaine_Hearts\", 20),(\"heidelbeeren\", 25),(\"tahini\", 35)\n",
    "                      ,(\"mandel_milch\", 100), (\"red pepper\", 70),(\"macadamias\", 20),(\"creme\", 100),(\"limone\", 10),\n",
    "                      (\"chiaseed\", 7), (\"flaxseed\", 13), (\"lachsfilet\", 180), (\"butter\", 20), (\"broccoli\", 200)])"
   ]
  },
  {
   "cell_type": "markdown",
   "metadata": {},
   "source": [
    "## Aubergine"
   ]
  },
  {
   "cell_type": "markdown",
   "metadata": {},
   "source": [
    "kommt noch"
   ]
  },
  {
   "cell_type": "markdown",
   "metadata": {},
   "source": [
    "## serdina"
   ]
  },
  {
   "cell_type": "markdown",
   "metadata": {},
   "source": [
    "anteil([(\"egg\", 3),(\"ghee\", 15) , (\"coconut raspel\", 15),(\"sardine\", 250), \n",
    "                      (\"pumpkin_seed\", 20), (\"black_watermelon_seed\", 20), (\"haselnusskerne\", 20)])"
   ]
  },
  {
   "cell_type": "markdown",
   "metadata": {},
   "source": [
    "## Pizza"
   ]
  },
  {
   "cell_type": "markdown",
   "metadata": {},
   "source": [
    "tasnimsfood = anteil([(\"mandel_milch\", 100),(\"chiaseed\", 7), (\"flaxseed\",13), (\"meat\", 150), (\"oliven oil\", 20), \n",
    "                      (\"mandelnmehl\", 40), (\"egg\", 1), \n",
    "                      (\"gratinkaese\", 75), (\"schwarze_oliven\", 30), (\"exquisa_frishkaese\", 50)])"
   ]
  },
  {
   "cell_type": "markdown",
   "metadata": {},
   "source": [
    "### erbsen"
   ]
  },
  {
   "cell_type": "markdown",
   "metadata": {},
   "source": [
    "tasnimsfood = anteil([(\"erbsen_moehrchen\", 150), (\"egg\", 3), (\"coconut_raspel\", 15), (\"ghee\", 30), \n",
    "                      (\"rind_Rippe/hals\", 200), (\"mandeln_kerne\", 10), (\"mandeln_milch\", 100),\n",
    "                      (\"chiaseed\", 7), (\"flaxseed\",13) \n",
    "                      ])"
   ]
  }
 ],
 "metadata": {
  "kernelspec": {
   "display_name": "aki",
   "language": "python",
   "name": "python3"
  },
  "language_info": {
   "name": "python",
   "version": "3.9.18"
  }
 },
 "nbformat": 4,
 "nbformat_minor": 2
}
