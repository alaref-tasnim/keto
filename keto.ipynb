{
 "cells": [
  {
   "cell_type": "code",
   "execution_count": 82,
   "metadata": {},
   "outputs": [],
   "source": [
    "import pandas as pd "
   ]
  },
  {
   "cell_type": "code",
   "execution_count": 83,
   "metadata": {},
   "outputs": [],
   "source": [
    "data = pd.read_excel(r\"C:\\Users\\Lenovo\\Documents\\Tasnim\\keto\\keto.xlsx\")\n",
    "# CHANGE THE PFAD THAT IS IT. I WILL SOLVE THE PROBLEM TODAY "
   ]
  },
  {
   "cell_type": "code",
   "execution_count": 84,
   "metadata": {},
   "outputs": [],
   "source": [
    "df = pd.DataFrame(data)"
   ]
  },
  {
   "cell_type": "code",
   "execution_count": 85,
   "metadata": {},
   "outputs": [],
   "source": [
    "# berechnet für mehrere Lebensmittel deren inhatl und gibt sie zurück (name, fat, carbs, protei)\n",
    "def anteil(input):\n",
    "    \n",
    "    anteil = []\n",
    "    for lebensmittel in input: \n",
    "\n",
    "        result =  df[df[\"name\"] == lebensmittel[0]]\n",
    "    \n",
    "    # wenn lebensmittel nicht im Dataframe vorhanden ist:\n",
    "        if result.values.shape[0] == 0:\n",
    "            print(f'Es gibt kein Nahrungsmittels mit diesen Name {lebensmittel[0]}' )\n",
    "\n",
    "    # wennn die Menge nummber ist also 100g  und nicht medium ist.\n",
    "        elif isinstance(result[\"menge\"].values[0], int):\n",
    "            fatanteil = lebensmittel[1] * result[\"fat\"].values[0] / result[\"menge\"].values[0]\n",
    "            carbsanteil = lebensmittel[1] * result[\"carbs\"].values[0] / result[\"menge\"].values[0]\n",
    "            proteinanteil = lebensmittel[1] * result[\"protein\"].values[0] / result[\"menge\"].values[0]\n",
    "            anteil.append([lebensmittel[0], fatanteil, carbsanteil, proteinanteil])\n",
    "        else: \n",
    "            fatanteil = lebensmittel[1] * result[\"fat\"].values[0] \n",
    "            carbsanteil = lebensmittel[1] * result[\"carbs\"].values[0] \n",
    "            proteinanteil = lebensmittel[1] * result[\"protein\"].values[0]\n",
    "            anteil.append([lebensmittel[0], fatanteil, carbsanteil, proteinanteil])\n",
    "    return anteil\n",
    "    \n"
   ]
  },
  {
   "cell_type": "code",
   "execution_count": 86,
   "metadata": {},
   "outputs": [],
   "source": [
    "# summiert die inhalte zusammen und gibt sie einzeln und als summe zusammen \n",
    "def summ(input:list):\n",
    "    fatssume = 0\n",
    "    carbssumme= 0\n",
    "    proteinsumme = 0\n",
    "    for lebensmittel in input:\n",
    "        fatssume += lebensmittel[1]\n",
    "        carbssumme += lebensmittel[2]\n",
    "        proteinsumme += lebensmittel[3]\n",
    "\n",
    "    print(f'fats: {fatssume}, carbs: {carbssumme}, protein: {proteinsumme}')\n",
    "    return[fatssume, carbssumme, proteinsumme]"
   ]
  },
  {
   "cell_type": "code",
   "execution_count": 87,
   "metadata": {},
   "outputs": [
    {
     "data": {
      "text/html": [
       "<div>\n",
       "<style scoped>\n",
       "    .dataframe tbody tr th:only-of-type {\n",
       "        vertical-align: middle;\n",
       "    }\n",
       "\n",
       "    .dataframe tbody tr th {\n",
       "        vertical-align: top;\n",
       "    }\n",
       "\n",
       "    .dataframe thead th {\n",
       "        text-align: right;\n",
       "    }\n",
       "</style>\n",
       "<table border=\"1\" class=\"dataframe\">\n",
       "  <thead>\n",
       "    <tr style=\"text-align: right;\">\n",
       "      <th></th>\n",
       "      <th>name</th>\n",
       "      <th>menge</th>\n",
       "      <th>fat</th>\n",
       "      <th>carbs</th>\n",
       "      <th>protein</th>\n",
       "      <th>kcal</th>\n",
       "    </tr>\n",
       "  </thead>\n",
       "  <tbody>\n",
       "    <tr>\n",
       "      <th>0</th>\n",
       "      <td>broccoli</td>\n",
       "      <td>100</td>\n",
       "      <td>0.2</td>\n",
       "      <td>2.7</td>\n",
       "      <td>3.8</td>\n",
       "      <td>26.0</td>\n",
       "    </tr>\n",
       "    <tr>\n",
       "      <th>1</th>\n",
       "      <td>egg</td>\n",
       "      <td>Medium</td>\n",
       "      <td>4.2</td>\n",
       "      <td>0.3</td>\n",
       "      <td>5.5</td>\n",
       "      <td>63.0</td>\n",
       "    </tr>\n",
       "    <tr>\n",
       "      <th>2</th>\n",
       "      <td>zucchini</td>\n",
       "      <td>100</td>\n",
       "      <td>0.4</td>\n",
       "      <td>2.7</td>\n",
       "      <td>1.2</td>\n",
       "      <td>15.0</td>\n",
       "    </tr>\n",
       "    <tr>\n",
       "      <th>3</th>\n",
       "      <td>butter</td>\n",
       "      <td>100</td>\n",
       "      <td>82.0</td>\n",
       "      <td>0.7</td>\n",
       "      <td>0.6</td>\n",
       "      <td>743.0</td>\n",
       "    </tr>\n",
       "    <tr>\n",
       "      <th>4</th>\n",
       "      <td>sardine</td>\n",
       "      <td>100</td>\n",
       "      <td>27.0</td>\n",
       "      <td>0.5</td>\n",
       "      <td>20.0</td>\n",
       "      <td>326.0</td>\n",
       "    </tr>\n",
       "    <tr>\n",
       "      <th>...</th>\n",
       "      <td>...</td>\n",
       "      <td>...</td>\n",
       "      <td>...</td>\n",
       "      <td>...</td>\n",
       "      <td>...</td>\n",
       "      <td>...</td>\n",
       "    </tr>\n",
       "    <tr>\n",
       "      <th>56</th>\n",
       "      <td>schwarze_oliven</td>\n",
       "      <td>100</td>\n",
       "      <td>37.0</td>\n",
       "      <td>5.7</td>\n",
       "      <td>1.8</td>\n",
       "      <td>364.0</td>\n",
       "    </tr>\n",
       "    <tr>\n",
       "      <th>57</th>\n",
       "      <td>exquisa_frishkaese</td>\n",
       "      <td>100</td>\n",
       "      <td>22.5</td>\n",
       "      <td>3.0</td>\n",
       "      <td>5.5</td>\n",
       "      <td>238.0</td>\n",
       "    </tr>\n",
       "    <tr>\n",
       "      <th>58</th>\n",
       "      <td>huettenkaese</td>\n",
       "      <td>100</td>\n",
       "      <td>3.2</td>\n",
       "      <td>1.5</td>\n",
       "      <td>12.3</td>\n",
       "      <td>87.0</td>\n",
       "    </tr>\n",
       "    <tr>\n",
       "      <th>59</th>\n",
       "      <td>erbsen_moehrchen</td>\n",
       "      <td>100</td>\n",
       "      <td>0.5</td>\n",
       "      <td>6.3</td>\n",
       "      <td>2.8</td>\n",
       "      <td>47.0</td>\n",
       "    </tr>\n",
       "    <tr>\n",
       "      <th>60</th>\n",
       "      <td>garnelen</td>\n",
       "      <td>100</td>\n",
       "      <td>0.4</td>\n",
       "      <td>0.0</td>\n",
       "      <td>14.0</td>\n",
       "      <td>2.0</td>\n",
       "    </tr>\n",
       "  </tbody>\n",
       "</table>\n",
       "<p>61 rows × 6 columns</p>\n",
       "</div>"
      ],
      "text/plain": [
       "                  name   menge   fat  carbs  protein   kcal\n",
       "0             broccoli     100   0.2    2.7      3.8   26.0\n",
       "1                  egg  Medium   4.2    0.3      5.5   63.0\n",
       "2             zucchini     100   0.4    2.7      1.2   15.0\n",
       "3               butter     100  82.0    0.7      0.6  743.0\n",
       "4              sardine     100  27.0    0.5     20.0  326.0\n",
       "..                 ...     ...   ...    ...      ...    ...\n",
       "56     schwarze_oliven     100  37.0    5.7      1.8  364.0\n",
       "57  exquisa_frishkaese     100  22.5    3.0      5.5  238.0\n",
       "58        huettenkaese     100   3.2    1.5     12.3   87.0\n",
       "59    erbsen_moehrchen     100   0.5    6.3      2.8   47.0\n",
       "60            garnelen     100   0.4    0.0     14.0    2.0\n",
       "\n",
       "[61 rows x 6 columns]"
      ]
     },
     "execution_count": 87,
     "metadata": {},
     "output_type": "execute_result"
    }
   ],
   "source": [
    "df"
   ]
  },
  {
   "cell_type": "markdown",
   "metadata": {},
   "source": [
    "## HIER SOLLTE MAN DIE INFO ANGEBEN"
   ]
  },
  {
   "cell_type": "code",
   "execution_count": 99,
   "metadata": {},
   "outputs": [
    {
     "name": "stdout",
     "output_type": "stream",
     "text": [
      "TASNIM\n",
      "fats: 76.44999999999999, carbs: 6.039999999999999, protein: 25.125\n",
      "-----------------------------------------------------------------------------\n",
      "JOUMAN\n",
      "fats: 182.71, carbs: 14.055000000000001, protein: 129.865\n",
      "-------------------------------------------------------------------------------\n"
     ]
    }
   ],
   "source": [
    "tasnimsFat = 108\n",
    "tasnimsCarbs = 16 \n",
    "tasnimsProtein = 65\n",
    "\n",
    "tasnimsfood = anteil([(\"ghee\", 15), (\"egg\", 3), (\"haselnuss_mus\", 50), (\"coconut_raspel\", 15), (\"heidelbeeren\", 20)])\n",
    "print(\"TASNIM\")\n",
    "summ(tasnimsfood)\n",
    "print(\"-----------------------------------------------------------------------------\")\n",
    "#################################################################################\n",
    "\n",
    "joumansFat = 200\n",
    "joumansCarbs = 30\n",
    "joumansProtein = 120 \n",
    "\n",
    "joumansfood = anteil([(\"egg\", 3),(\"ghee\", 20), (\"egg\", 1),  (\"meat\", 250),\n",
    "                      (\"gratinkaese\", 75), (\"schwarze_oliven\", 30), (\"exquisa_frishkaese\", 50),(\"black_watermelon_seed\", 50)\n",
    "                      ,(\"chiaseed\", 7), (\"flaxseed\",13), (\"pfannekaese\", 100)])\n",
    "print(\"JOUMAN\")\n",
    "summ(joumansfood)\n",
    "print(\"-------------------------------------------------------------------------------\")"
   ]
  },
  {
   "cell_type": "code",
   "execution_count": 89,
   "metadata": {},
   "outputs": [
    {
     "name": "stdout",
     "output_type": "stream",
     "text": [
      "fats: 113.37, carbs: 7.220000000000001, protein: 62.555000000000014\n",
      "fats: 182.71, carbs: 14.055000000000001, protein: 129.865\n"
     ]
    },
    {
     "data": {
      "image/png": "[encoded data removed]",
      "text/plain": [
       "<Figure size 1200x600 with 2 Axes>"
      ]
     },
     "metadata": {},
     "output_type": "display_data"
    }
   ],
   "source": [
    "    \n",
    "import matplotlib.pyplot as plt\n",
    "import seaborn as sns                            \n",
    "\n",
    "fat_sum, carbs_sum, protein_sum = summ(tasnimsfood)\n",
    "color_fat = 'red' if fat_sum > tasnimsFat else 'green'\n",
    "color_carbs = 'red' if carbs_sum > tasnimsCarbs else 'green'\n",
    "color_protein = 'red' if protein_sum > tasnimsProtein else 'green'\n",
    "\n",
    "# Erstellen von zwei Plots nebeneinander\n",
    "fig, axs = plt.subplots(1, 2, figsize=(12, 6))\n",
    "\n",
    "# Erster Plot\n",
    "sns.barplot(x=[\"Fett\", \"Kohlenhydrate\", \"Protein\"], y=[fat_sum, carbs_sum, protein_sum],hue=[\"Fett\", \"Kohlenhydrate\", \"Protein\"], palette=[color_fat, color_carbs, color_protein], ax=axs[0])\n",
    "axs[0].set_ylim(0, 140)\n",
    "axs[0].set_xlabel(\"Nährstoffe\")\n",
    "axs[0].set_ylabel(\"Menge in g\")\n",
    "axs[0].set_title(\"Summe der Nährstoffe für TASNIM\")\n",
    "\n",
    "#################################################################################################################################################################\n",
    "\n",
    "\n",
    "fat_sum, carbs_sum, protein_sum = summ(joumansfood)\n",
    "color_fat = 'red' if fat_sum > joumansFat else 'Green'\n",
    "color_carbs = 'red' if carbs_sum > joumansCarbs else 'green'\n",
    "color_protein = 'red' if protein_sum > joumansProtein else 'green'\n",
    "\n",
    "# Zweiter Plot (optional, ein Beispielplot)\n",
    "sns.barplot(x=[\"Fett\", \"Kohlenhydrate\", \"Protein\"], y=[fat_sum, carbs_sum, protein_sum],hue=[\"Fett\", \"Kohlenhydrate\", \"Protein\"], palette=[color_fat, color_carbs, color_protein], ax=axs[1])\n",
    "axs[1].set_ylim(0, 170)\n",
    "axs[1].set_xlabel(\"Nährstoffe\")\n",
    "axs[1].set_ylabel(\"Menge in g\")\n",
    "axs[1].set_title(\"Summe der Nährstoffe für JOUMAN\")\n",
    "\n",
    "# Layout anpassen\n",
    "plt.tight_layout()\n",
    "\n",
    "# Plots anzeigen\n",
    "plt.show()"
   ]
  },
  {
   "cell_type": "code",
   "execution_count": null,
   "metadata": {},
   "outputs": [],
   "source": []
  }
 ],
 "metadata": {
  "kernelspec": {
   "display_name": "aki",
   "language": "python",
   "name": "python3"
  },
  "language_info": {
   "codemirror_mode": {
    "name": "ipython",
    "version": 3
   },
   "file_extension": ".py",
   "mimetype": "text/x-python",
   "name": "python",
   "nbconvert_exporter": "python",
   "pygments_lexer": "ipython3",
   "version": "3.9.18"
  }
 },
 "nbformat": 4,
 "nbformat_minor": 2
}
